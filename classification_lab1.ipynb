{
  "nbformat": 4,
  "nbformat_minor": 0,
  "metadata": {
    "colab": {
      "provenance": []
    },
    "kernelspec": {
      "name": "python3",
      "display_name": "Python 3"
    },
    "language_info": {
      "name": "python"
    }
  },
  "cells": [
    {
      "cell_type": "code",
      "execution_count": null,
      "metadata": {
        "id": "V9dsBtgXkzrl"
      },
      "outputs": [],
      "source": [
        "!pip install langchain_community\n",
        "!pip install replicate\n",
        "\n",
        "from langchain_community.llms import Replicate\n",
        "import os\n",
        "from google.colab import userdata\n",
        "\n",
        "# Set the API token\n",
        "api_token = userdata.get('api_token')\n",
        "os.environ[\"REPLICATE_API_TOKEN\"] = api_token\n",
        "\n",
        "# Model setup\n",
        "model = \"ibm-granite/granite-3.0-8b-instruct\"\n",
        "\n",
        "# Define the customer reviews\n",
        "customer_reviews = [\n",
        "    \"The battery lasts all day, but the phone gets hot during gaming.\",\n",
        "    \"The screen is too dim outdoors, but I love the colors indoors.\",\n",
        "    \"This phone is fast, but it keeps crashing when I open certain apps.\"\n",
        "]\n",
        "\n",
        "# Refine the prompt to include reviews\n",
        "reviews_text = \"\\n\".join([f\"Review {i+1}: {review}\" for i, review in enumerate(customer_reviews)])\n",
        "\n",
        "# prompt = f\"\"\"\n",
        "# Classify these reviews as Positive, Negative, or Mixed:\n",
        "\n",
        "# {reviews_text}\n",
        "# \"\"\"\n",
        "\n",
        "# refined_prompt = f\"\"\"\n",
        "# Classify these reviews as Positive, Negative, or Mixed, and tag relevant focus areas:\n",
        "#\n",
        "# {reviews_text}\n",
        "# \"\"\"\n",
        "\n",
        "# Define the example to guide the model\n",
        "example_input = \"The battery is excellent, but the screen brightness is poor.\"\n",
        "example_output = {\"Sentiment\": \"Mixed\", \"Categories\": \"Battery Life, Screen Quality\"}\n",
        "\n",
        "example_prompt = f\"\"\"\n",
        "Classify these reviews as Positive, Negative, or Mixed, and tag relevant focus areas.\n",
        "\n",
        "Example:\n",
        "Input: \"{example_input}\"\n",
        "Output: {example_output}\n",
        "\n",
        "Now process the following reviews:\n",
        "{reviews_text}\n",
        "\"\"\"\n",
        "\n",
        "output = Replicate(\n",
        "    model=model,\n",
        "    replicate_api_token=api_token,\n",
        ")\n",
        "\n",
        "# Invoke the model with prompt\n",
        "# response = output.invoke(prompt)\n",
        "\n",
        "# Invoke the model with the refined prompt\n",
        "# response = output.invoke(refined_prompt)\n",
        "\n",
        "# Invoke the model with the example prompt\n",
        "response = output.invoke(example_prompt)\n",
        "\n",
        "# Print the response\n",
        "# print(\"Granite Model Response:\\n\")\n",
        "# print(\"Granite Model Refined Response:\\n\")\n",
        "print(\"Granite Model Response post guiding example:\\n\")\n",
        "print(response)"
      ]
    }
  ]
}